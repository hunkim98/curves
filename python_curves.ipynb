{
 "cells": [
  {
   "cell_type": "markdown",
   "metadata": {},
   "source": [
    "Drawing bezier curves in pillow\n",
    "\n",
    "https://stackoverflow.com/questions/246525/how-can-i-draw-a-bezier-curve-using-pythons-pil"
   ]
  },
  {
   "cell_type": "code",
   "execution_count": 5,
   "metadata": {},
   "outputs": [
    {
     "ename": "ModuleNotFoundError",
     "evalue": "No module named 'aggdraw'",
     "output_type": "error",
     "traceback": [
      "\u001b[0;31m---------------------------------------------------------------------------\u001b[0m",
      "\u001b[0;31mModuleNotFoundError\u001b[0m                       Traceback (most recent call last)",
      "\u001b[1;32m/Users/hunkim/Github/curves/python_curves.ipynb Cell 2\u001b[0m line \u001b[0;36m2\n\u001b[1;32m      <a href='vscode-notebook-cell:/Users/hunkim/Github/curves/python_curves.ipynb#W1sZmlsZQ%3D%3D?line=0'>1</a>\u001b[0m \u001b[39mfrom\u001b[39;00m \u001b[39mPIL\u001b[39;00m \u001b[39mimport\u001b[39;00m Image\n\u001b[0;32m----> <a href='vscode-notebook-cell:/Users/hunkim/Github/curves/python_curves.ipynb#W1sZmlsZQ%3D%3D?line=1'>2</a>\u001b[0m \u001b[39mimport\u001b[39;00m \u001b[39maggdraw\u001b[39;00m\n\u001b[1;32m      <a href='vscode-notebook-cell:/Users/hunkim/Github/curves/python_curves.ipynb#W1sZmlsZQ%3D%3D?line=3'>4</a>\u001b[0m img \u001b[39m=\u001b[39m Image\u001b[39m.\u001b[39mnew(\u001b[39m\"\u001b[39m\u001b[39mRGB\u001b[39m\u001b[39m\"\u001b[39m, (\u001b[39m200\u001b[39m, \u001b[39m200\u001b[39m), \u001b[39m\"\u001b[39m\u001b[39mwhite\u001b[39m\u001b[39m\"\u001b[39m)\n\u001b[1;32m      <a href='vscode-notebook-cell:/Users/hunkim/Github/curves/python_curves.ipynb#W1sZmlsZQ%3D%3D?line=4'>5</a>\u001b[0m \u001b[39m# img = Image.new(\"RGBA\", (200, 200), (0, 0, 0, 0))\u001b[39;00m\n",
      "\u001b[0;31mModuleNotFoundError\u001b[0m: No module named 'aggdraw'"
     ]
    }
   ],
   "source": [
    "from PIL import Image\n",
    "import aggdraw\n",
    "\n",
    "img = Image.new(\"RGB\", (200, 200), \"white\")\n",
    "# img = Image.new(\"RGBA\", (200, 200), (0, 0, 0, 0))\n",
    "canvas = aggdraw.Draw(img)\n",
    "\n",
    "pen = aggdraw.Pen(\"black\")\n",
    "path = aggdraw.Path()\n",
    "path.moveto(0, 0)\n",
    "path.curveto(0, 60, 40, 100, 100, 100)\n",
    "canvas.path(path.coords(), path, pen)\n",
    "canvas.flush()\n",
    "\n",
    "img.save(\"curve.png\", \"PNG\")\n",
    "img.show()"
   ]
  },
  {
   "cell_type": "markdown",
   "metadata": {},
   "source": []
  },
  {
   "cell_type": "code",
   "execution_count": null,
   "metadata": {},
   "outputs": [],
   "source": []
  }
 ],
 "metadata": {
  "kernelspec": {
   "display_name": ".venv",
   "language": "python",
   "name": "python3"
  },
  "language_info": {
   "codemirror_mode": {
    "name": "ipython",
    "version": 3
   },
   "file_extension": ".py",
   "mimetype": "text/x-python",
   "name": "python",
   "nbconvert_exporter": "python",
   "pygments_lexer": "ipython3",
   "version": "3.9.6"
  }
 },
 "nbformat": 4,
 "nbformat_minor": 2
}
